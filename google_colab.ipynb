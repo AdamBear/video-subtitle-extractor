{
 "cells": [
  {
   "cell_type": "code",
   "execution_count": 1,
   "metadata": {
    "colab": {
     "base_uri": "https://localhost:8080/"
    },
    "id": "eHPHc_Bheo-j",
    "outputId": "cdd6ec77-0c14-4530-e184-9da8d6f230e0"
   },
   "outputs": [
    {
     "name": "stdout",
     "output_type": "stream",
     "text": [
      "Tue Mar 30 04:53:52 2021       \n",
      "+-----------------------------------------------------------------------------+\n",
      "| NVIDIA-SMI 460.56       Driver Version: 460.32.03    CUDA Version: 11.2     |\n",
      "|-------------------------------+----------------------+----------------------+\n",
      "| GPU  Name        Persistence-M| Bus-Id        Disp.A | Volatile Uncorr. ECC |\n",
      "| Fan  Temp  Perf  Pwr:Usage/Cap|         Memory-Usage | GPU-Util  Compute M. |\n",
      "|                               |                      |               MIG M. |\n",
      "|===============================+======================+======================|\n",
      "|   0  Tesla T4            Off  | 00000000:00:04.0 Off |                    0 |\n",
      "| N/A   65C    P8    11W /  70W |      0MiB / 15109MiB |      0%      Default |\n",
      "|                               |                      |                  N/A |\n",
      "+-------------------------------+----------------------+----------------------+\n",
      "                                                                               \n",
      "+-----------------------------------------------------------------------------+\n",
      "| Processes:                                                                  |\n",
      "|  GPU   GI   CI        PID   Type   Process name                  GPU Memory |\n",
      "|        ID   ID                                                   Usage      |\n",
      "|=============================================================================|\n",
      "|  No running processes found                                                 |\n",
      "+-----------------------------------------------------------------------------+\n"
     ]
    }
   ],
   "source": [
    "!nvidia-smi"
   ]
  },
  {
   "cell_type": "code",
   "execution_count": 3,
   "metadata": {
    "colab": {
     "base_uri": "https://localhost:8080/"
    },
    "id": "ICeq0T1FeqjT",
    "outputId": "8bb896d4-4826-4585-d69e-670a110d234d"
   },
   "outputs": [
    {
     "name": "stdout",
     "output_type": "stream",
     "text": [
      "Cloning into 'video-subtitle-extractor'...\n",
      "remote: Enumerating objects: 36, done.\u001b[K\n",
      "remote: Counting objects: 100% (36/36), done.\u001b[K\n",
      "remote: Compressing objects: 100% (29/29), done.\u001b[K\n",
      "remote: Total 383 (delta 18), reused 18 (delta 7), pack-reused 347\u001b[K\n",
      "Receiving objects: 100% (383/383), 151.42 MiB | 39.00 MiB/s, done.\n",
      "Resolving deltas: 100% (128/128), done.\n",
      "Checking out files: 100% (160/160), done.\n"
     ]
    }
   ],
   "source": [
    "!git clone https://github.com/YaoFANGUK/video-subtitle-extractor.git"
   ]
  },
  {
   "cell_type": "code",
   "execution_count": 4,
   "metadata": {
    "colab": {
     "base_uri": "https://localhost:8080/"
    },
    "id": "alI2kMxse7hC",
    "outputId": "fc1701d9-38ce-48fb-ef35-9c5c76f2f66a"
   },
   "outputs": [
    {
     "name": "stdout",
     "output_type": "stream",
     "text": [
      "\u001b[0m\u001b[01;34msample_data\u001b[0m/  \u001b[01;34mvideo-subtitle-extractor\u001b[0m/\n"
     ]
    }
   ],
   "source": [
    "ls"
   ]
  },
  {
   "cell_type": "code",
   "execution_count": 5,
   "metadata": {
    "colab": {
     "base_uri": "https://localhost:8080/"
    },
    "id": "tlt14G0Pe_O0",
    "outputId": "4fd13be0-cc1d-4690-d514-cec2dad21af5"
   },
   "outputs": [
    {
     "name": "stdout",
     "output_type": "stream",
     "text": [
      "/content/video-subtitle-extractor\n"
     ]
    }
   ],
   "source": [
    "cd video-subtitle-extractor"
   ]
  },
  {
   "cell_type": "code",
   "execution_count": 7,
   "metadata": {
    "colab": {
     "base_uri": "https://localhost:8080/",
     "height": 1000
    },
    "id": "FzDmpIvyfA37",
    "outputId": "2a9291ff-ba08-4236-8f87-da76db516b81"
   },
   "outputs": [
    {
     "name": "stdout",
     "output_type": "stream",
     "text": [
      "Requirement already satisfied: astor==0.8.1 in /usr/local/lib/python3.7/dist-packages (from -r requirements_gpu.txt (line 1)) (0.8.1)\n",
      "Requirement already satisfied: certifi==2020.12.5 in /usr/local/lib/python3.7/dist-packages (from -r requirements_gpu.txt (line 2)) (2020.12.5)\n",
      "Collecting chardet==4.0.0\n",
      "\u001b[?25l  Downloading https://files.pythonhosted.org/packages/19/c7/fa589626997dd07bd87d9269342ccb74b1720384a4d739a1872bd84fbe68/chardet-4.0.0-py2.py3-none-any.whl (178kB)\n",
      "\r",
      "\u001b[K     |█▉                              | 10kB 17.0MB/s eta 0:00:01\r",
      "\u001b[K     |███▋                            | 20kB 22.6MB/s eta 0:00:01\r",
      "\u001b[K     |█████▌                          | 30kB 26.5MB/s eta 0:00:01\r",
      "\u001b[K     |███████▎                        | 40kB 30.0MB/s eta 0:00:01\r",
      "\u001b[K     |█████████▏                      | 51kB 31.5MB/s eta 0:00:01\r",
      "\u001b[K     |███████████                     | 61kB 34.0MB/s eta 0:00:01\r",
      "\u001b[K     |████████████▉                   | 71kB 22.9MB/s eta 0:00:01\r",
      "\u001b[K     |██████████████▋                 | 81kB 20.6MB/s eta 0:00:01\r",
      "\u001b[K     |████████████████▌               | 92kB 21.7MB/s eta 0:00:01\r",
      "\u001b[K     |██████████████████▎             | 102kB 21.7MB/s eta 0:00:01\r",
      "\u001b[K     |████████████████████▏           | 112kB 21.7MB/s eta 0:00:01\r",
      "\u001b[K     |██████████████████████          | 122kB 21.7MB/s eta 0:00:01\r",
      "\u001b[K     |███████████████████████▉        | 133kB 21.7MB/s eta 0:00:01\r",
      "\u001b[K     |█████████████████████████▋      | 143kB 21.7MB/s eta 0:00:01\r",
      "\u001b[K     |███████████████████████████▌    | 153kB 21.7MB/s eta 0:00:01\r",
      "\u001b[K     |█████████████████████████████▎  | 163kB 21.7MB/s eta 0:00:01\r",
      "\u001b[K     |███████████████████████████████▏| 174kB 21.7MB/s eta 0:00:01\r",
      "\u001b[K     |████████████████████████████████| 184kB 21.7MB/s \n",
      "\u001b[?25hRequirement already satisfied: cycler==0.10.0 in /usr/local/lib/python3.7/dist-packages (from -r requirements_gpu.txt (line 4)) (0.10.0)\n",
      "Requirement already satisfied: decorator==4.4.2 in /usr/local/lib/python3.7/dist-packages (from -r requirements_gpu.txt (line 5)) (4.4.2)\n",
      "Collecting filesplit==3.0.2\n",
      "  Downloading https://files.pythonhosted.org/packages/84/e3/16c52980db61310f9cf76e6f2e3f39e802e2e242c9d6cd9f834a5448be9f/filesplit-3.0.2.tar.gz\n",
      "Collecting gast==0.4.0\n",
      "  Downloading https://files.pythonhosted.org/packages/b6/48/583c032b79ae5b3daa02225a675aeb673e58d2cb698e78510feceb11958c/gast-0.4.0-py3-none-any.whl\n",
      "Requirement already satisfied: idna==2.10 in /usr/local/lib/python3.7/dist-packages (from -r requirements_gpu.txt (line 8)) (2.10)\n",
      "Collecting imageio==2.9.0\n",
      "\u001b[?25l  Downloading https://files.pythonhosted.org/packages/6e/57/5d899fae74c1752f52869b613a8210a2480e1a69688e65df6cb26117d45d/imageio-2.9.0-py3-none-any.whl (3.3MB)\n",
      "\u001b[K     |████████████████████████████████| 3.3MB 36.1MB/s \n",
      "\u001b[?25hCollecting imgaug==0.4.0\n",
      "\u001b[?25l  Downloading https://files.pythonhosted.org/packages/66/b1/af3142c4a85cba6da9f4ebb5ff4e21e2616309552caca5e8acefe9840622/imgaug-0.4.0-py2.py3-none-any.whl (948kB)\n",
      "\u001b[K     |████████████████████████████████| 952kB 55.5MB/s \n",
      "\u001b[?25hRequirement already satisfied: kiwisolver==1.3.1 in /usr/local/lib/python3.7/dist-packages (from -r requirements_gpu.txt (line 11)) (1.3.1)\n",
      "Collecting lmdb==1.1.1\n",
      "\u001b[?25l  Downloading https://files.pythonhosted.org/packages/1b/0f/efc8fcd3d1e9858f0ef2cf935cd75133ef845deca2127765fba5d61334e8/lmdb-1.1.1-cp37-cp37m-manylinux2010_x86_64.whl (299kB)\n",
      "\u001b[K     |████████████████████████████████| 307kB 57.5MB/s \n",
      "\u001b[?25hCollecting matplotlib==3.3.4\n",
      "\u001b[?25l  Downloading https://files.pythonhosted.org/packages/23/3d/db9a6b3c83c9511301152dbb64a029c3a4313c86eaef12c237b13ecf91d6/matplotlib-3.3.4-cp37-cp37m-manylinux1_x86_64.whl (11.5MB)\n",
      "\u001b[K     |████████████████████████████████| 11.6MB 49.4MB/s \n",
      "\u001b[?25hRequirement already satisfied: networkx==2.5 in /usr/local/lib/python3.7/dist-packages (from -r requirements_gpu.txt (line 14)) (2.5)\n",
      "Collecting numpy==1.19.0\n",
      "\u001b[?25l  Downloading https://files.pythonhosted.org/packages/a8/31/e2c3eda7afe7dab08e1f24767b8e38ff2f30dc82bd74aa3a5324c550366a/numpy-1.19.0-cp37-cp37m-manylinux2010_x86_64.whl (14.6MB)\n",
      "\u001b[K     |████████████████████████████████| 14.6MB 222kB/s \n",
      "\u001b[?25hCollecting opencv-python==4.5.1.48\n",
      "\u001b[?25l  Downloading https://files.pythonhosted.org/packages/0f/13/192104516c4a3d92dc6b5e106ffcfbf0fe35f3c4faa49650205ff652af72/opencv_python-4.5.1.48-cp37-cp37m-manylinux2014_x86_64.whl (50.4MB)\n",
      "\u001b[K     |████████████████████████████████| 50.4MB 63kB/s \n",
      "\u001b[?25hCollecting opencv-python-headless==4.5.1.48\n",
      "\u001b[?25l  Downloading https://files.pythonhosted.org/packages/6d/6d/92f377bece9b0ec9c893081dbe073a65b38d7ac12ef572b8f70554d08760/opencv_python_headless-4.5.1.48-cp37-cp37m-manylinux2014_x86_64.whl (37.6MB)\n",
      "\u001b[K     |████████████████████████████████| 37.6MB 82kB/s \n",
      "\u001b[?25hCollecting paddlepaddle-gpu==2.0.1\n",
      "\u001b[?25l  Downloading https://files.pythonhosted.org/packages/89/04/b59d5df53baff8b8e1697e7b473dc74a9e3adebc291660ebbac5a0b84a6a/paddlepaddle_gpu-2.0.1-cp37-cp37m-manylinux1_x86_64.whl (695.8MB)\n",
      "\u001b[K     |████████████████████████████████| 695.8MB 25kB/s \n",
      "\u001b[?25hCollecting Pillow==8.1.2\n",
      "\u001b[?25l  Downloading https://files.pythonhosted.org/packages/1f/6d/b719ae8e21660a6a962636896dc4b7d657ef451a3ab941516401846ac5cb/Pillow-8.1.2-cp37-cp37m-manylinux1_x86_64.whl (2.2MB)\n",
      "\u001b[K     |████████████████████████████████| 2.2MB 39.8MB/s \n",
      "\u001b[?25hCollecting protobuf==3.15.6\n",
      "\u001b[?25l  Downloading https://files.pythonhosted.org/packages/7d/cc/abf8e30629db7a8b15efb79d4c87e235895d2c636ce7a4ac625cfc816f07/protobuf-3.15.6-cp37-cp37m-manylinux1_x86_64.whl (1.0MB)\n",
      "\u001b[K     |████████████████████████████████| 1.0MB 39.1MB/s \n",
      "\u001b[?25hCollecting pyclipper==1.2.1\n",
      "\u001b[?25l  Downloading https://files.pythonhosted.org/packages/69/5b/92df65d3e1e5c5623e67feeac92a18d28b0bf11bdd44d200245611b0fbb8/pyclipper-1.2.1-cp37-cp37m-manylinux1_x86_64.whl (126kB)\n",
      "\u001b[K     |████████████████████████████████| 133kB 60.0MB/s \n",
      "\u001b[?25hRequirement already satisfied: pyparsing==2.4.7 in /usr/local/lib/python3.7/dist-packages (from -r requirements_gpu.txt (line 22)) (2.4.7)\n",
      "Requirement already satisfied: python-dateutil==2.8.1 in /usr/local/lib/python3.7/dist-packages (from -r requirements_gpu.txt (line 23)) (2.8.1)\n",
      "Collecting python-Levenshtein==0.12.2\n",
      "\u001b[?25l  Downloading https://files.pythonhosted.org/packages/2a/dc/97f2b63ef0fa1fd78dcb7195aca577804f6b2b51e712516cc0e902a9a201/python-Levenshtein-0.12.2.tar.gz (50kB)\n",
      "\u001b[K     |████████████████████████████████| 51kB 9.0MB/s \n",
      "\u001b[?25hRequirement already satisfied: PyWavelets==1.1.1 in /usr/local/lib/python3.7/dist-packages (from -r requirements_gpu.txt (line 25)) (1.1.1)\n",
      "Collecting requests==2.25.1\n",
      "\u001b[?25l  Downloading https://files.pythonhosted.org/packages/29/c1/24814557f1d22c56d50280771a17307e6bf87b70727d975fd6b2ce6b014a/requests-2.25.1-py2.py3-none-any.whl (61kB)\n",
      "\u001b[K     |████████████████████████████████| 61kB 8.7MB/s \n",
      "\u001b[?25hCollecting scikit-image==0.18.1\n",
      "\u001b[?25l  Downloading https://files.pythonhosted.org/packages/fe/01/3a830f3df578ea3ed94ee7fd9f91e85c3dec2431d8548ab1c91869e51450/scikit_image-0.18.1-cp37-cp37m-manylinux1_x86_64.whl (29.2MB)\n",
      "\u001b[K     |████████████████████████████████| 29.2MB 106kB/s \n",
      "\u001b[?25hCollecting scipy==1.6.2\n",
      "\u001b[?25l  Downloading https://files.pythonhosted.org/packages/75/91/ee427c42957f8c4cbe477bf4f8b7f608e003a17941e509d1777e58648cb3/scipy-1.6.2-cp37-cp37m-manylinux1_x86_64.whl (27.4MB)\n",
      "\u001b[K     |████████████████████████████████| 27.4MB 111kB/s \n",
      "\u001b[?25hRequirement already satisfied: Shapely==1.7.1 in /usr/local/lib/python3.7/dist-packages (from -r requirements_gpu.txt (line 29)) (1.7.1)\n",
      "Requirement already satisfied: six==1.15.0 in /usr/local/lib/python3.7/dist-packages (from -r requirements_gpu.txt (line 30)) (1.15.0)\n",
      "Requirement already satisfied: tifffile==2021.3.17 in /usr/local/lib/python3.7/dist-packages (from -r requirements_gpu.txt (line 31)) (2021.3.17)\n",
      "Collecting urllib3==1.26.4\n",
      "\u001b[?25l  Downloading https://files.pythonhosted.org/packages/09/c6/d3e3abe5b4f4f16cf0dfc9240ab7ce10c2baa0e268989a4e3ec19e90c84e/urllib3-1.26.4-py2.py3-none-any.whl (153kB)\n",
      "\u001b[K     |████████████████████████████████| 153kB 59.2MB/s \n",
      "\u001b[?25hRequirement already satisfied: setuptools in /usr/local/lib/python3.7/dist-packages (from python-Levenshtein==0.12.2->-r requirements_gpu.txt (line 24)) (54.1.2)\n",
      "Building wheels for collected packages: filesplit, python-Levenshtein\n",
      "  Building wheel for filesplit (setup.py) ... \u001b[?25l\u001b[?25hdone\n",
      "  Created wheel for filesplit: filename=filesplit-3.0.2-cp37-none-any.whl size=4937 sha256=29e12d707bfedcf491f9bc0271a04855dba518b9a7656dfbc577274850d5aae1\n",
      "  Stored in directory: /root/.cache/pip/wheels/63/d3/e6/a8d9d330304987156993af1d5120c9840ccfe714dc122ebf07\n",
      "  Building wheel for python-Levenshtein (setup.py) ... \u001b[?25l\u001b[?25hdone\n",
      "  Created wheel for python-Levenshtein: filename=python_Levenshtein-0.12.2-cp37-cp37m-linux_x86_64.whl size=149802 sha256=20ff4b090aa6d13e2461de6312669a529ce825b99f653121b3a264b7ad6ef231\n",
      "  Stored in directory: /root/.cache/pip/wheels/b3/26/73/4b48503bac73f01cf18e52cd250947049a7f339e940c5df8fc\n",
      "Successfully built filesplit python-Levenshtein\n",
      "\u001b[31mERROR: tensorflow 2.4.1 has requirement gast==0.3.3, but you'll have gast 0.4.0 which is incompatible.\u001b[0m\n",
      "\u001b[31mERROR: tensorflow 2.4.1 has requirement numpy~=1.19.2, but you'll have numpy 1.19.0 which is incompatible.\u001b[0m\n",
      "\u001b[31mERROR: google-colab 1.0.0 has requirement requests~=2.23.0, but you'll have requests 2.25.1 which is incompatible.\u001b[0m\n",
      "\u001b[31mERROR: datascience 0.10.6 has requirement folium==0.2.1, but you'll have folium 0.8.3 which is incompatible.\u001b[0m\n",
      "\u001b[31mERROR: albumentations 0.1.12 has requirement imgaug<0.2.7,>=0.2.5, but you'll have imgaug 0.4.0 which is incompatible.\u001b[0m\n",
      "Installing collected packages: chardet, filesplit, gast, Pillow, numpy, imageio, scipy, matplotlib, scikit-image, opencv-python, imgaug, lmdb, opencv-python-headless, protobuf, urllib3, requests, paddlepaddle-gpu, pyclipper, python-Levenshtein\n",
      "  Found existing installation: chardet 3.0.4\n",
      "    Uninstalling chardet-3.0.4:\n",
      "      Successfully uninstalled chardet-3.0.4\n",
      "  Found existing installation: gast 0.3.3\n",
      "    Uninstalling gast-0.3.3:\n",
      "      Successfully uninstalled gast-0.3.3\n",
      "  Found existing installation: Pillow 7.0.0\n",
      "    Uninstalling Pillow-7.0.0:\n",
      "      Successfully uninstalled Pillow-7.0.0\n",
      "  Found existing installation: numpy 1.19.5\n",
      "    Uninstalling numpy-1.19.5:\n",
      "      Successfully uninstalled numpy-1.19.5\n",
      "  Found existing installation: imageio 2.4.1\n",
      "    Uninstalling imageio-2.4.1:\n",
      "      Successfully uninstalled imageio-2.4.1\n",
      "  Found existing installation: scipy 1.4.1\n",
      "    Uninstalling scipy-1.4.1:\n",
      "      Successfully uninstalled scipy-1.4.1\n",
      "  Found existing installation: matplotlib 3.2.2\n",
      "    Uninstalling matplotlib-3.2.2:\n",
      "      Successfully uninstalled matplotlib-3.2.2\n",
      "  Found existing installation: scikit-image 0.16.2\n",
      "    Uninstalling scikit-image-0.16.2:\n",
      "      Successfully uninstalled scikit-image-0.16.2\n",
      "  Found existing installation: opencv-python 4.1.2.30\n",
      "    Uninstalling opencv-python-4.1.2.30:\n",
      "      Successfully uninstalled opencv-python-4.1.2.30\n",
      "  Found existing installation: imgaug 0.2.9\n",
      "    Uninstalling imgaug-0.2.9:\n",
      "      Successfully uninstalled imgaug-0.2.9\n",
      "  Found existing installation: lmdb 0.99\n",
      "    Uninstalling lmdb-0.99:\n",
      "      Successfully uninstalled lmdb-0.99\n",
      "  Found existing installation: protobuf 3.12.4\n",
      "    Uninstalling protobuf-3.12.4:\n",
      "      Successfully uninstalled protobuf-3.12.4\n",
      "  Found existing installation: urllib3 1.24.3\n",
      "    Uninstalling urllib3-1.24.3:\n",
      "      Successfully uninstalled urllib3-1.24.3\n",
      "  Found existing installation: requests 2.23.0\n",
      "    Uninstalling requests-2.23.0:\n",
      "      Successfully uninstalled requests-2.23.0\n",
      "Successfully installed Pillow-8.1.2 chardet-4.0.0 filesplit-3.0.2 gast-0.4.0 imageio-2.9.0 imgaug-0.4.0 lmdb-1.1.1 matplotlib-3.3.4 numpy-1.19.0 opencv-python-4.5.1.48 opencv-python-headless-4.5.1.48 paddlepaddle-gpu-2.0.1 protobuf-3.15.6 pyclipper-1.2.1 python-Levenshtein-0.12.2 requests-2.25.1 scikit-image-0.18.1 scipy-1.6.2 urllib3-1.26.4\n"
     ]
    },
    {
     "data": {
      "application/vnd.colab-display-data+json": {
       "pip_warning": {
        "packages": [
         "PIL",
         "google",
         "matplotlib",
         "mpl_toolkits",
         "numpy"
        ]
       }
      }
     },
     "metadata": {
      "tags": []
     },
     "output_type": "display_data"
    }
   ],
   "source": [
    "!pip install -r requirements_gpu.txt"
   ]
  },
  {
   "cell_type": "code",
   "execution_count": 1,
   "metadata": {
    "colab": {
     "base_uri": "https://localhost:8080/"
    },
    "id": "oMWo5IrefFgM",
    "outputId": "cf4cab25-7260-43d6-87f2-2571d1a45a6e"
   },
   "outputs": [
    {
     "name": "stdout",
     "output_type": "stream",
     "text": [
      "\u001b[0m\u001b[01;34msample_data\u001b[0m/  \u001b[01;34mvideo-subtitle-extractor\u001b[0m/\n"
     ]
    }
   ],
   "source": [
    "ls"
   ]
  },
  {
   "cell_type": "code",
   "execution_count": 2,
   "metadata": {
    "colab": {
     "base_uri": "https://localhost:8080/"
    },
    "id": "uyJlsN1OgEcm",
    "outputId": "ed3e478a-0e01-41cd-9fd1-df3b5f284727"
   },
   "outputs": [
    {
     "name": "stdout",
     "output_type": "stream",
     "text": [
      "/content/video-subtitle-extractor\n"
     ]
    }
   ],
   "source": [
    "cd video-subtitle-extractor/"
   ]
  },
  {
   "cell_type": "code",
   "execution_count": 4,
   "metadata": {
    "colab": {
     "base_uri": "https://localhost:8080/"
    },
    "id": "B2MPjMOOgGbD",
    "outputId": "40b65892-28ca-4af7-bb89-cd8716265644"
   },
   "outputs": [
    {
     "name": "stdout",
     "output_type": "stream",
     "text": [
      "Running Verify Fluid Program ... \n",
      "W0330 05:00:56.211509   282 device_context.cc:362] Please NOTE: device: 0, GPU Compute Capability: 7.5, Driver API Version: 11.2, Runtime API Version: 10.2\n",
      "W0330 05:00:56.217797   282 device_context.cc:372] device: 0, cuDNN Version: 7.6.\n",
      "Your Paddle Fluid works well on SINGLE GPU or CPU.\n",
      "Your Paddle Fluid works well on MUTIPLE GPU or CPU.\n",
      "Your Paddle Fluid is installed successfully! Let's start deep Learning with Paddle Fluid now\n",
      "使用GPU进行加速\n",
      "/usr/local/lib/python3.7/dist-packages/yaml/constructor.py:126: DeprecationWarning: Using or importing the ABCs from 'collections' instead of from 'collections.abc' is deprecated since Python 3.3,and in 3.9 it will stop working\n",
      "  if not isinstance(key, collections.Hashable):\n",
      "请输入视频完整路径：/content/testvd.mp4\n",
      "帧数：568.0，帧率：30.000033010599704\n",
      "Step 1. 开启提取视频关键帧...\n",
      "提取视频关键帧完毕...\n",
      "Step 2. 开始提取字幕信息，此步骤可能花费较长时间，请耐心等待...\n",
      "[2021/03/30 05:01:15] root INFO: dt_boxes num : 4, elapse : 0.14402198791503906\n",
      "[2021/03/30 05:01:16] root INFO: rec_res num  : 4, elapse : 0.06298613548278809\n",
      "['30', '编辑部评分是7.2分', 'TSST']\n",
      "[2021/03/30 05:01:16] root INFO: dt_boxes num : 3, elapse : 0.0818178653717041\n",
      "[2021/03/30 05:01:16] root INFO: rec_res num  : 3, elapse : 0.03780984878540039\n",
      "['8', '编辑部评分是7.2分', 'TEST']\n",
      "[2021/03/30 05:01:16] root INFO: dt_boxes num : 4, elapse : 0.07239007949829102\n",
      "[2021/03/30 05:01:16] root INFO: rec_res num  : 4, elapse : 0.03380751609802246\n",
      "['易', '8', '编辑部评分是7.2分', 'T-ST']\n",
      "[2021/03/30 05:01:16] root INFO: dt_boxes num : 5, elapse : 0.06836462020874023\n",
      "[2021/03/30 05:01:16] root INFO: rec_res num  : 5, elapse : 0.041188955307006836\n",
      "['功能', '易用性', '编辑部评分是7.2分', 'TEST']\n",
      "[2021/03/30 05:01:16] root INFO: dt_boxes num : 6, elapse : 0.06691503524780273\n",
      "[2021/03/30 05:01:16] root INFO: rec_res num  : 6, elapse : 0.05425071716308594\n",
      "['易用性', '正临', '编辑部评分是7.2分', 'TSSTI']\n",
      "[2021/03/30 05:01:16] root INFO: dt_boxes num : 5, elapse : 0.06857109069824219\n",
      "[2021/03/30 05:01:16] root INFO: rec_res num  : 5, elapse : 0.034926652908325195\n",
      "['LE', '易用性', '而观众老爷们嘛']\n",
      "[2021/03/30 05:01:16] root INFO: dt_boxes num : 6, elapse : 0.06962084770202637\n",
      "[2021/03/30 05:01:17] root INFO: rec_res num  : 6, elapse : 0.04759716987609863\n",
      "['写瓦', '二', '易用性', '而观众老爷们嘛']\n",
      "[2021/03/30 05:01:17] root INFO: dt_boxes num : 7, elapse : 0.06960034370422363\n",
      "[2021/03/30 05:01:17] root INFO: rec_res num  : 7, elapse : 0.04424023628234863\n",
      "['？', '易用性', '而观众老爷们嘛']\n",
      "[2021/03/30 05:01:17] root INFO: dt_boxes num : 9, elapse : 0.06829595565795898\n",
      "[2021/03/30 05:01:17] root INFO: rec_res num  : 9, elapse : 0.05313420295715332\n",
      "['易用性', '主题壁纸', '换机', '而观众老爷们嘛', 'T']\n",
      "[2021/03/30 05:01:17] root INFO: dt_boxes num : 8, elapse : 0.06818628311157227\n",
      "[2021/03/30 05:01:17] root INFO: rec_res num  : 8, elapse : 0.05216336250305176\n",
      "['易用性', '而观众老爷们嘛', 'TEST']\n",
      "[2021/03/30 05:01:17] root INFO: dt_boxes num : 10, elapse : 0.06845855712890625\n",
      "[2021/03/30 05:01:17] root INFO: rec_res num  : 10, elapse : 0.06405067443847656\n",
      "['功能', '回放', '易用性', '今日步数5084', '影音视听14分钟', '我们收到1569份评分', 'T-ST']\n",
      "[2021/03/30 05:01:17] root INFO: dt_boxes num : 6, elapse : 0.06773829460144043\n",
      "[2021/03/30 05:01:17] root INFO: rec_res num  : 6, elapse : 0.05858922004699707\n",
      "['功能', '易用性', '14号', '我们收到1569份评分', 'TSST']\n",
      "[2021/03/30 05:01:18] root INFO: dt_boxes num : 11, elapse : 0.07036185264587402\n",
      "[2021/03/30 05:01:18] root INFO: rec_res num  : 11, elapse : 0.0695803165435791\n",
      "['功能', '29', '期五', '易用性', '我们收到1569份评分', 'TEST']\n",
      "[2021/03/30 05:01:18] root INFO: dt_boxes num : 3, elapse : 0.0671992301940918\n",
      "[2021/03/30 05:01:18] root INFO: rec_res num  : 3, elapse : 0.031127452850341797\n",
      "['我们收到1569份评分', 'TEST']\n",
      "[2021/03/30 05:01:18] root INFO: dt_boxes num : 9, elapse : 0.0686032772064209\n",
      "[2021/03/30 05:01:18] root INFO: rec_res num  : 9, elapse : 0.05087685585021973\n",
      "['大圣净化', '23', '易翔，', '我们收到1569份评分', 'TEST']\n",
      "[2021/03/30 05:01:18] root INFO: dt_boxes num : 6, elapse : 0.06680893898010254\n",
      "[2021/03/30 05:01:18] root INFO: rec_res num  : 6, elapse : 0.061042070388793945\n",
      "['功能', '大墨净化', '23', '易用性', '我们收到1569份评分', 'TEST']\n",
      "[2021/03/30 05:01:18] root INFO: dt_boxes num : 9, elapse : 0.07074356079101562\n",
      "[2021/03/30 05:01:18] root INFO: rec_res num  : 9, elapse : 0.049074649810791016\n",
      "['功能', '23', '易用性', '我们收到1569份评分', 'TEST']\n",
      "[2021/03/30 05:01:18] root INFO: dt_boxes num : 7, elapse : 0.06651568412780762\n",
      "[2021/03/30 05:01:18] root INFO: rec_res num  : 7, elapse : 0.054694414138793945\n",
      "['功能', '王价比', '易用性', '获得平均分83分', 'TEST']\n",
      "[2021/03/30 05:01:19] root INFO: dt_boxes num : 11, elapse : 0.0700066089630127\n",
      "[2021/03/30 05:01:19] root INFO: rec_res num  : 11, elapse : 0.050124168395996094\n",
      "['功能', '29', '日历', '8：', '易用性', '生日', '获得平均分8分', 'TEST']\n",
      "[2021/03/30 05:01:19] root INFO: dt_boxes num : 11, elapse : 0.07042765617370605\n",
      "[2021/03/30 05:01:19] root INFO: rec_res num  : 11, elapse : 0.05459332466125488\n",
      "['功能', '工', '29', '易用性', 'C', '获得平均分83分', 'TEST']\n",
      "[2021/03/30 05:01:19] root INFO: dt_boxes num : 10, elapse : 0.06987738609313965\n",
      "[2021/03/30 05:01:19] root INFO: rec_res num  : 10, elapse : 0.057497262954711914\n",
      "['功能', '易用性', '获得平均分8.3分', 'T-ST']\n",
      "[2021/03/30 05:01:19] root INFO: dt_boxes num : 23, elapse : 0.07419443130493164\n",
      "[2021/03/30 05:01:19] root INFO: rec_res num  : 23, elapse : 0.08902907371520996\n",
      "['功能', '利物浦', '1', '19:00', '回放', 'WE', '星', 'RNG', '00:30', '西汉姆', '利物酒', '照开更多', '易用性', '今日步数5084', '影音视听14分钟', '获得平均分8.3分', 'TEST', '设备']\n",
      "[2021/03/30 05:01:19] root INFO: dt_boxes num : 23, elapse : 0.07614350318908691\n",
      "[2021/03/30 05:01:19] root INFO: rec_res num  : 23, elapse : 0.08669447898864746\n",
      "['功能', '19:00', '回放', 'WE', '1', 'RNG', '00:30', '西汉姆', '前', '利物薄', '前', '展开更多', '易用性', '今日步数5084', '屏幕使用2时38分', '131', 'T', '获得平均分8.3份', 'ST', '备']\n",
      "[2021/03/30 05:01:19] root INFO: dt_boxes num : 2, elapse : 0.06589818000793457\n",
      "[2021/03/30 05:01:19] root INFO: rec_res num  : 2, elapse : 0.014737606048583984\n",
      "['易用性', '布朗熊与可妮兔']\n",
      "[2021/03/30 05:01:20] root INFO: dt_boxes num : 5, elapse : 0.06754112243652344\n",
      "[2021/03/30 05:01:20] root INFO: rec_res num  : 5, elapse : 0.07237792015075684\n",
      "['易用性', '布朗熊与可妮兔', '米11在四个纬度的分数只高不低', 'Brown&Con']\n",
      "[2021/03/30 05:01:20] root INFO: dt_boxes num : 5, elapse : 0.06590557098388672\n",
      "[2021/03/30 05:01:20] root INFO: rec_res num  : 5, elapse : 0.08357715606689453\n",
      "['易用性', '布朗熊与可妮鱼', '￥11在四个纬度的分数只高不低', 'Brown&ConY']\n",
      "[2021/03/30 05:01:20] root INFO: dt_boxes num : 4, elapse : 0.06757831573486328\n",
      "[2021/03/30 05:01:20] root INFO: rec_res num  : 4, elapse : 0.026897192001342773\n",
      "['D', '易用性', 'Brown&Cony']\n",
      "[2021/03/30 05:01:20] root INFO: dt_boxes num : 6, elapse : 0.068145751953125\n",
      "[2021/03/30 05:01:20] root INFO: rec_res num  : 6, elapse : 0.08809947967529297\n",
      "['HDn', '易用性', '布朗熊与可妮兔', '11在四个纬度的分数只高不低', '茶', 'Brown&Cony']\n",
      "[2021/03/30 05:01:20] root INFO: dt_boxes num : 5, elapse : 0.06944656372070312\n",
      "[2021/03/30 05:01:20] root INFO: rec_res num  : 5, elapse : 0.02738165855407715\n",
      "['易用性', 'Brown&Cony', '茶']\n",
      "[2021/03/30 05:01:20] root INFO: dt_boxes num : 4, elapse : 0.06836795806884766\n",
      "[2021/03/30 05:01:21] root INFO: rec_res num  : 4, elapse : 0.02448129653930664\n",
      "['易用性', 'Brown&Cony']\n",
      "[2021/03/30 05:01:21] root INFO: dt_boxes num : 3, elapse : 0.06509160995483398\n",
      "[2021/03/30 05:01:21] root INFO: rec_res num  : 3, elapse : 0.0194094181060791\n",
      "['易用性', '茶', 'Brown&Cony']\n",
      "[2021/03/30 05:01:21] root INFO: dt_boxes num : 3, elapse : 0.06666183471679688\n",
      "[2021/03/30 05:01:21] root INFO: rec_res num  : 3, elapse : 0.017718076705932617\n",
      "['易用性', '茶', 'Brown&Cony']\n",
      "[2021/03/30 05:01:21] root INFO: dt_boxes num : 4, elapse : 0.06582808494567871\n",
      "[2021/03/30 05:01:21] root INFO: rec_res num  : 4, elapse : 0.025033950805664062\n",
      "['易用性', 'Brown&Cony']\n",
      "[2021/03/30 05:01:21] root INFO: dt_boxes num : 3, elapse : 0.0648648738861084\n",
      "[2021/03/30 05:01:21] root INFO: rec_res num  : 3, elapse : 0.02213597297668457\n",
      "['易用性', '茶', 'Brown&Cony']\n",
      "[2021/03/30 05:01:21] root INFO: dt_boxes num : 3, elapse : 0.06644940376281738\n",
      "[2021/03/30 05:01:21] root INFO: rec_res num  : 3, elapse : 0.019091129302978516\n",
      "['易用性', '茶', 'Brown&Cony']\n",
      "[2021/03/30 05:01:21] root INFO: dt_boxes num : 3, elapse : 0.06672954559326172\n",
      "[2021/03/30 05:01:21] root INFO: rec_res num  : 3, elapse : 0.02083420753479004\n",
      "['易用性', '茶', 'Brown&Cony']\n",
      "[2021/03/30 05:01:21] root INFO: dt_boxes num : 4, elapse : 0.06565666198730469\n",
      "[2021/03/30 05:01:21] root INFO: rec_res num  : 4, elapse : 0.02493119239807129\n",
      "['易用性', '茶', 'Brown&Cony']\n",
      "[2021/03/30 05:01:22] root INFO: dt_boxes num : 5, elapse : 0.06770944595336914\n",
      "[2021/03/30 05:01:22] root INFO: rec_res num  : 5, elapse : 0.028589487075805664\n",
      "['易用性', '茶', 'Brown&Cony']\n",
      "[2021/03/30 05:01:22] root INFO: dt_boxes num : 3, elapse : 0.06848573684692383\n",
      "[2021/03/30 05:01:22] root INFO: rec_res num  : 3, elapse : 0.021693706512451172\n",
      "['易用性', 'Brown&Cony']\n",
      "[2021/03/30 05:01:22] root INFO: dt_boxes num : 3, elapse : 0.06637048721313477\n",
      "[2021/03/30 05:01:22] root INFO: rec_res num  : 3, elapse : 0.022501468658447266\n",
      "['易用性', '漆', 'Brown&Cony']\n",
      "[2021/03/30 05:01:22] root INFO: dt_boxes num : 3, elapse : 0.06774711608886719\n",
      "[2021/03/30 05:01:22] root INFO: rec_res num  : 3, elapse : 0.021985292434692383\n",
      "['易用性', '茶', 'Brown&Cony']\n",
      "[2021/03/30 05:01:22] root INFO: dt_boxes num : 5, elapse : 0.06895327568054199\n",
      "[2021/03/30 05:01:22] root INFO: rec_res num  : 5, elapse : 0.03924155235290527\n",
      "['功能', '价IE', '易用性', '看来在观众眼中', '1']\n",
      "[2021/03/30 05:01:22] root INFO: dt_boxes num : 5, elapse : 0.06944680213928223\n",
      "[2021/03/30 05:01:22] root INFO: rec_res num  : 5, elapse : 0.03776049613952637\n",
      "['功能', '任价比', '易用性', '看来在观众眼中', 'PST']\n",
      "[2021/03/30 05:01:22] root INFO: dt_boxes num : 5, elapse : 0.06571078300476074\n",
      "[2021/03/30 05:01:23] root INFO: rec_res num  : 5, elapse : 0.04117131233215332\n",
      "['功能', '价比', '易用性', '看来在观众眼中', 'TEST']\n",
      "[2021/03/30 05:01:23] root INFO: dt_boxes num : 5, elapse : 0.06788992881774902\n",
      "[2021/03/30 05:01:23] root INFO: rec_res num  : 5, elapse : 0.0761101245880127\n",
      "['功能', '在价比', '易用性', '小米11还是十分值得购买的手机哟', 'TESTI']\n",
      "[2021/03/30 05:01:23] root INFO: dt_boxes num : 5, elapse : 0.06792283058166504\n",
      "[2021/03/30 05:01:23] root INFO: rec_res num  : 5, elapse : 0.07545995712280273\n",
      "['功能', '任价比', '易用性', '小米11还是十分值得购买的手机哟', 'TEST']\n",
      "[2021/03/30 05:01:23] root INFO: dt_boxes num : 6, elapse : 0.06739664077758789\n",
      "[2021/03/30 05:01:23] root INFO: rec_res num  : 6, elapse : 0.0957193374633789\n",
      "['功能', '价式', '易用性', '小米11还是十分值得购买的手机哟', 'T三STI']\n",
      "[2021/03/30 05:01:23] root INFO: dt_boxes num : 5, elapse : 0.0679783821105957\n",
      "[2021/03/30 05:01:23] root INFO: rec_res num  : 5, elapse : 0.07640886306762695\n",
      "['功能', '易用性', '小米11还是十分值得购买的手机哟', 'TEST']\n",
      "[2021/03/30 05:01:23] root INFO: dt_boxes num : 5, elapse : 0.06631970405578613\n",
      "[2021/03/30 05:01:23] root INFO: rec_res num  : 5, elapse : 0.07297635078430176\n",
      "['功能', '任价比', '易用性', '小米11还是十分值得购买的手机哟', 'TES']\n",
      "[2021/03/30 05:01:24] root INFO: dt_boxes num : 5, elapse : 0.06671547889709473\n",
      "[2021/03/30 05:01:24] root INFO: rec_res num  : 5, elapse : 0.07393217086791992\n",
      "['功能', '易用性', '小米11还是十分值得购买的手机哟', 'T']\n",
      "[2021/03/30 05:01:24] root INFO: dt_boxes num : 5, elapse : 0.06604695320129395\n",
      "[2021/03/30 05:01:24] root INFO: rec_res num  : 5, elapse : 0.07659339904785156\n",
      "['功能', 'DLL', '易用性', '小米11还是十分值得购买的手机哟', 'TPC']\n",
      "[2021/03/30 05:01:24] root INFO: dt_boxes num : 6, elapse : 0.06710600852966309\n",
      "[2021/03/30 05:01:24] root INFO: rec_res num  : 6, elapse : 0.09409260749816895\n",
      "['功能', '易用性', '小米11还是十分值得购买的手机哟', 'TS']\n",
      "[2021/03/30 05:01:24] root INFO: dt_boxes num : 5, elapse : 0.06793045997619629\n",
      "[2021/03/30 05:01:24] root INFO: rec_res num  : 5, elapse : 0.07574295997619629\n",
      "['功能', '易用性', '小米11还是十分值得购买的手机哟', 'T-C']\n",
      "[2021/03/30 05:01:24] root INFO: dt_boxes num : 5, elapse : 0.06672501564025879\n",
      "[2021/03/30 05:01:24] root INFO: rec_res num  : 5, elapse : 0.07797956466674805\n",
      "['功能', '易用性', '小米11还是十分值得购买的手机哟', 'I']\n",
      "[2021/03/30 05:01:25] root INFO: dt_boxes num : 5, elapse : 0.06730794906616211\n",
      "[2021/03/30 05:01:25] root INFO: rec_res num  : 5, elapse : 0.07574915885925293\n",
      "['功能', '王价L', '易用性', '小米11还是十分值得购买的手机哟', 'TEST']\n",
      "[2021/03/30 05:01:25] root INFO: dt_boxes num : 6, elapse : 0.06949663162231445\n",
      "[2021/03/30 05:01:25] root INFO: rec_res num  : 6, elapse : 0.08900570869445801\n",
      "['功能', '易用性', '小米11还是十分值得购买的手机哟']\n",
      "[2021/03/30 05:01:25] root INFO: dt_boxes num : 5, elapse : 0.06655359268188477\n",
      "[2021/03/30 05:01:25] root INFO: rec_res num  : 5, elapse : 0.07690143585205078\n",
      "['功能', '价L', '易用性', 'T', '小米11还是十分值得购买的手机哟']\n",
      "完成字幕提取，生成原始字幕文件...\n",
      "Step 3. 开始检测并过滤水印区域内容\n",
      "视频是否存在水印区域，存在的话输入y，不存在的话输入n: y\n",
      "请查看图片, 确定水印区域: /content/video-subtitle-extractor/output/watermark_area.jpg\n",
      "是否去除区域A((349, 432, 161, 181), 56)中的字幕?\n",
      "输入 \"y\" 或 \"回车\" 表示去除，输入\"n\"或其他表示不去除: y\n",
      "已经删除该区域字幕...\n",
      "是否去除区域B((1058, 1178, 262, 281), 32)中的字幕?\n",
      "输入 \"y\" 或 \"回车\" 表示去除，输入\"n\"或其他表示不去除: y\n",
      "已经删除该区域字幕...\n",
      "是否去除区域C((171, 224, 0, 12), 28)中的字幕?\n",
      "输入 \"y\" 或 \"回车\" 表示去除，输入\"n\"或其他表示不去除: y\n",
      "已经删除该区域字幕...\n",
      "是否去除区域D((353, 468, 327, 328), 27)中的字幕?\n",
      "输入 \"y\" 或 \"回车\" 表示去除，输入\"n\"或其他表示不去除: y\n",
      "已经删除该区域字幕...\n",
      "是否去除区域E((419, 870, 266, 291), 26)中的字幕?\n",
      "输入 \"y\" 或 \"回车\" 表示去除，输入\"n\"或其他表示不去除: n\n",
      "水印区域字幕过滤完毕...\n",
      "已经成功过滤水印区域内容\n",
      "Step 4. 开始检测非字幕区域，并将非字幕区域的内容删除\n",
      "请查看图片, 确定字幕区域是否正确: /content/video-subtitle-extractor/output/subtitle_area.jpg\n",
      "是否去除红色框区域外(216, 341)的字幕?\n",
      "输入 \"y\" 或 \"回车\" 表示去除，输入\"n\"或其他表示不去除: y\n",
      "去除完毕\n",
      "已将非字幕区域的内容删除\n",
      "Step 5. 开始生成字幕文件\n",
      "/content/testvd\n",
      "字幕文件生成位置：/content/testvd.srt\n",
      "字幕文件生成成功\n"
     ]
    }
   ],
   "source": [
    "!python main.py"
   ]
  },
  {
   "cell_type": "markdown",
   "metadata": {
    "id": "EGsjK3RRgIlD"
   },
   "source": [
    "<img src=\"\">"
   ]
  }
 ],
 "metadata": {
  "accelerator": "GPU",
  "colab": {
   "collapsed_sections": [],
   "name": "video-subtitle-extractor.ipynb",
   "provenance": []
  },
  "kernelspec": {
   "display_name": "Python 3",
   "language": "python",
   "name": "python3"
  },
  "language_info": {
   "codemirror_mode": {
    "name": "ipython",
    "version": 3
   },
   "file_extension": ".py",
   "mimetype": "text/x-python",
   "name": "python",
   "nbconvert_exporter": "python",
   "pygments_lexer": "ipython3",
   "version": "3.8.5"
  }
 },
 "nbformat": 4,
 "nbformat_minor": 1
}
