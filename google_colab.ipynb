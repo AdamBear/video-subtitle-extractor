{
 "cells": [
  {
   "cell_type": "markdown",
   "metadata": {
    "id": "WAJ7lA2wuvR8"
   },
   "source": [
    "# 运行教程\n",
    "\n",
    "1. 点击“修改” -> \"笔记本设置\" -> \"硬件加速器GPU\" -> 保存\n",
    "<img src=\"https://z3.ax1x.com/2021/03/30/ciQWWV.png\">\n",
    "\n",
    "2. 点左侧文件夹图标，上传视频文件，复制上传的视频路径\n",
    "\n",
    "<img src=\"https://z3.ax1x.com/2021/03/30/cilvhq.png\">\n",
    "\n",
    "3. 运行代码， 输入粘贴的视频路径\n",
    "\n",
    "\n"
   ]
  },
  {
   "cell_type": "markdown",
   "metadata": {
    "id": "_jPi_FBwyZyr"
   },
   "source": [
    "查看是否有GPU"
   ]
  },
  {
   "cell_type": "code",
   "execution_count": null,
   "metadata": {
    "colab": {
     "base_uri": "https://localhost:8080/"
    },
    "id": "eHPHc_Bheo-j",
    "outputId": "cdd6ec77-0c14-4530-e184-9da8d6f230e0"
   },
   "outputs": [
    {
     "name": "stdout",
     "output_type": "stream",
     "text": [
      "Tue Mar 30 04:53:52 2021       \n",
      "+-----------------------------------------------------------------------------+\n",
      "| NVIDIA-SMI 460.56       Driver Version: 460.32.03    CUDA Version: 11.2     |\n",
      "|-------------------------------+----------------------+----------------------+\n",
      "| GPU  Name        Persistence-M| Bus-Id        Disp.A | Volatile Uncorr. ECC |\n",
      "| Fan  Temp  Perf  Pwr:Usage/Cap|         Memory-Usage | GPU-Util  Compute M. |\n",
      "|                               |                      |               MIG M. |\n",
      "|===============================+======================+======================|\n",
      "|   0  Tesla T4            Off  | 00000000:00:04.0 Off |                    0 |\n",
      "| N/A   65C    P8    11W /  70W |      0MiB / 15109MiB |      0%      Default |\n",
      "|                               |                      |                  N/A |\n",
      "+-------------------------------+----------------------+----------------------+\n",
      "                                                                               \n",
      "+-----------------------------------------------------------------------------+\n",
      "| Processes:                                                                  |\n",
      "|  GPU   GI   CI        PID   Type   Process name                  GPU Memory |\n",
      "|        ID   ID                                                   Usage      |\n",
      "|=============================================================================|\n",
      "|  No running processes found                                                 |\n",
      "+-----------------------------------------------------------------------------+\n"
     ]
    }
   ],
   "source": [
    "!nvidia-smi"
   ]
  },
  {
   "cell_type": "markdown",
   "metadata": {
    "id": "_85O6zgPyhto"
   },
   "source": [
    "# 安装依赖"
   ]
  },
  {
   "cell_type": "code",
   "execution_count": null,
   "metadata": {
    "colab": {
     "base_uri": "https://localhost:8080/"
    },
    "id": "ICeq0T1FeqjT",
    "outputId": "8bb896d4-4826-4585-d69e-670a110d234d"
   },
   "outputs": [
    {
     "name": "stdout",
     "output_type": "stream",
     "text": [
      "Cloning into 'video-subtitle-extractor'...\n",
      "remote: Enumerating objects: 36, done.\u001b[K\n",
      "remote: Counting objects: 100% (36/36), done.\u001b[K\n",
      "remote: Compressing objects: 100% (29/29), done.\u001b[K\n",
      "remote: Total 383 (delta 18), reused 18 (delta 7), pack-reused 347\u001b[K\n",
      "Receiving objects: 100% (383/383), 151.42 MiB | 39.00 MiB/s, done.\n",
      "Resolving deltas: 100% (128/128), done.\n",
      "Checking out files: 100% (160/160), done.\n"
     ]
    }
   ],
   "source": [
    "!git clone https://github.com/YaoFANGUK/video-subtitle-extractor.git"
   ]
  },
  {
   "cell_type": "code",
   "execution_count": null,
   "metadata": {},
   "outputs": [],
   "source": [
    "cd video-subtitle-extractor"
   ]
  },
  {
   "cell_type": "code",
   "execution_count": null,
   "metadata": {},
   "outputs": [],
   "source": [
    "!pip install -r requirements_gpu.txt"
   ]
  },
  {
   "cell_type": "markdown",
   "metadata": {
    "id": "SGb0i3tPyw9Q"
   },
   "source": [
    "# 运行程序"
   ]
  },
  {
   "cell_type": "code",
   "execution_count": null,
   "metadata": {
    "colab": {
     "base_uri": "https://localhost:8080/"
    },
    "id": "B2MPjMOOgGbD",
    "outputId": "40b65892-28ca-4af7-bb89-cd8716265644"
   },
   "outputs": [
    {
     "name": "stdout",
     "output_type": "stream",
     "text": [
      "Running Verify Fluid Program ... \n",
      "W0330 05:00:56.211509   282 device_context.cc:362] Please NOTE: device: 0, GPU Compute Capability: 7.5, Driver API Version: 11.2, Runtime API Version: 10.2\n",
      "W0330 05:00:56.217797   282 device_context.cc:372] device: 0, cuDNN Version: 7.6.\n",
      "Your Paddle Fluid works well on SINGLE GPU or CPU.\n",
      "Your Paddle Fluid works well on MUTIPLE GPU or CPU.\n",
      "Your Paddle Fluid is installed successfully! Let's start deep Learning with Paddle Fluid now\n",
      "使用GPU进行加速\n",
      "/usr/local/lib/python3.7/dist-packages/yaml/constructor.py:126: DeprecationWarning: Using or importing the ABCs from 'collections' instead of from 'collections.abc' is deprecated since Python 3.3,and in 3.9 it will stop working\n",
      "  if not isinstance(key, collections.Hashable):\n",
      "请输入视频完整路径：/content/testvd.mp4\n",
      "帧数：568.0，帧率：30.000033010599704\n",
      "Step 1. 开启提取视频关键帧...\n",
      "提取视频关键帧完毕...\n",
      "Step 2. 开始提取字幕信息，此步骤可能花费较长时间，请耐心等待...\n",
      "[2021/03/30 05:01:15] root INFO: dt_boxes num : 4, elapse : 0.14402198791503906\n",
      "[2021/03/30 05:01:16] root INFO: rec_res num  : 4, elapse : 0.06298613548278809\n",
      "['30', '编辑部评分是7.2分', 'TSST']\n",
      "[2021/03/30 05:01:16] root INFO: dt_boxes num : 3, elapse : 0.0818178653717041\n",
      "[2021/03/30 05:01:16] root INFO: rec_res num  : 3, elapse : 0.03780984878540039\n",
      "['8', '编辑部评分是7.2分', 'TEST']\n",
      "[2021/03/30 05:01:16] root INFO: dt_boxes num : 4, elapse : 0.07239007949829102\n",
      "[2021/03/30 05:01:16] root INFO: rec_res num  : 4, elapse : 0.03380751609802246\n",
      "['易', '8', '编辑部评分是7.2分', 'T-ST']\n",
      "[2021/03/30 05:01:16] root INFO: dt_boxes num : 5, elapse : 0.06836462020874023\n",
      "[2021/03/30 05:01:16] root INFO: rec_res num  : 5, elapse : 0.041188955307006836\n",
      "['功能', '易用性', '编辑部评分是7.2分', 'TEST']\n",
      "[2021/03/30 05:01:16] root INFO: dt_boxes num : 6, elapse : 0.06691503524780273\n",
      "[2021/03/30 05:01:16] root INFO: rec_res num  : 6, elapse : 0.05425071716308594\n",
      "['易用性', '正临', '编辑部评分是7.2分', 'TSSTI']\n",
      "[2021/03/30 05:01:16] root INFO: dt_boxes num : 5, elapse : 0.06857109069824219\n",
      "[2021/03/30 05:01:16] root INFO: rec_res num  : 5, elapse : 0.034926652908325195\n",
      "['LE', '易用性', '而观众老爷们嘛']\n",
      "[2021/03/30 05:01:16] root INFO: dt_boxes num : 6, elapse : 0.06962084770202637\n",
      "[2021/03/30 05:01:17] root INFO: rec_res num  : 6, elapse : 0.04759716987609863\n",
      "['写瓦', '二', '易用性', '而观众老爷们嘛']\n",
      "[2021/03/30 05:01:17] root INFO: dt_boxes num : 7, elapse : 0.06960034370422363\n",
      "[2021/03/30 05:01:17] root INFO: rec_res num  : 7, elapse : 0.04424023628234863\n",
      "['？', '易用性', '而观众老爷们嘛']\n",
      "[2021/03/30 05:01:17] root INFO: dt_boxes num : 9, elapse : 0.06829595565795898\n",
      "[2021/03/30 05:01:17] root INFO: rec_res num  : 9, elapse : 0.05313420295715332\n",
      "['易用性', '主题壁纸', '换机', '而观众老爷们嘛', 'T']\n",
      "[2021/03/30 05:01:17] root INFO: dt_boxes num : 8, elapse : 0.06818628311157227\n",
      "[2021/03/30 05:01:17] root INFO: rec_res num  : 8, elapse : 0.05216336250305176\n",
      "['易用性', '而观众老爷们嘛', 'TEST']\n",
      "[2021/03/30 05:01:17] root INFO: dt_boxes num : 10, elapse : 0.06845855712890625\n",
      "[2021/03/30 05:01:17] root INFO: rec_res num  : 10, elapse : 0.06405067443847656\n",
      "['功能', '回放', '易用性', '今日步数5084', '影音视听14分钟', '我们收到1569份评分', 'T-ST']\n",
      "[2021/03/30 05:01:17] root INFO: dt_boxes num : 6, elapse : 0.06773829460144043\n",
      "[2021/03/30 05:01:17] root INFO: rec_res num  : 6, elapse : 0.05858922004699707\n",
      "['功能', '易用性', '14号', '我们收到1569份评分', 'TSST']\n",
      "[2021/03/30 05:01:18] root INFO: dt_boxes num : 11, elapse : 0.07036185264587402\n",
      "[2021/03/30 05:01:18] root INFO: rec_res num  : 11, elapse : 0.0695803165435791\n",
      "['功能', '29', '期五', '易用性', '我们收到1569份评分', 'TEST']\n",
      "[2021/03/30 05:01:18] root INFO: dt_boxes num : 3, elapse : 0.0671992301940918\n",
      "[2021/03/30 05:01:18] root INFO: rec_res num  : 3, elapse : 0.031127452850341797\n",
      "['我们收到1569份评分', 'TEST']\n",
      "[2021/03/30 05:01:18] root INFO: dt_boxes num : 9, elapse : 0.0686032772064209\n",
      "[2021/03/30 05:01:18] root INFO: rec_res num  : 9, elapse : 0.05087685585021973\n",
      "['大圣净化', '23', '易翔，', '我们收到1569份评分', 'TEST']\n",
      "[2021/03/30 05:01:18] root INFO: dt_boxes num : 6, elapse : 0.06680893898010254\n",
      "[2021/03/30 05:01:18] root INFO: rec_res num  : 6, elapse : 0.061042070388793945\n",
      "['功能', '大墨净化', '23', '易用性', '我们收到1569份评分', 'TEST']\n",
      "[2021/03/30 05:01:18] root INFO: dt_boxes num : 9, elapse : 0.07074356079101562\n",
      "[2021/03/30 05:01:18] root INFO: rec_res num  : 9, elapse : 0.049074649810791016\n",
      "['功能', '23', '易用性', '我们收到1569份评分', 'TEST']\n",
      "[2021/03/30 05:01:18] root INFO: dt_boxes num : 7, elapse : 0.06651568412780762\n",
      "[2021/03/30 05:01:18] root INFO: rec_res num  : 7, elapse : 0.054694414138793945\n",
      "['功能', '王价比', '易用性', '获得平均分83分', 'TEST']\n",
      "[2021/03/30 05:01:19] root INFO: dt_boxes num : 11, elapse : 0.0700066089630127\n",
      "[2021/03/30 05:01:19] root INFO: rec_res num  : 11, elapse : 0.050124168395996094\n",
      "['功能', '29', '日历', '8：', '易用性', '生日', '获得平均分8分', 'TEST']\n",
      "[2021/03/30 05:01:19] root INFO: dt_boxes num : 11, elapse : 0.07042765617370605\n",
      "[2021/03/30 05:01:19] root INFO: rec_res num  : 11, elapse : 0.05459332466125488\n",
      "['功能', '工', '29', '易用性', 'C', '获得平均分83分', 'TEST']\n",
      "[2021/03/30 05:01:19] root INFO: dt_boxes num : 10, elapse : 0.06987738609313965\n",
      "[2021/03/30 05:01:19] root INFO: rec_res num  : 10, elapse : 0.057497262954711914\n",
      "['功能', '易用性', '获得平均分8.3分', 'T-ST']\n",
      "[2021/03/30 05:01:19] root INFO: dt_boxes num : 23, elapse : 0.07419443130493164\n",
      "[2021/03/30 05:01:19] root INFO: rec_res num  : 23, elapse : 0.08902907371520996\n",
      "['功能', '利物浦', '1', '19:00', '回放', 'WE', '星', 'RNG', '00:30', '西汉姆', '利物酒', '照开更多', '易用性', '今日步数5084', '影音视听14分钟', '获得平均分8.3分', 'TEST', '设备']\n",
      "[2021/03/30 05:01:19] root INFO: dt_boxes num : 23, elapse : 0.07614350318908691\n",
      "[2021/03/30 05:01:19] root INFO: rec_res num  : 23, elapse : 0.08669447898864746\n",
      "['功能', '19:00', '回放', 'WE', '1', 'RNG', '00:30', '西汉姆', '前', '利物薄', '前', '展开更多', '易用性', '今日步数5084', '屏幕使用2时38分', '131', 'T', '获得平均分8.3份', 'ST', '备']\n",
      "[2021/03/30 05:01:19] root INFO: dt_boxes num : 2, elapse : 0.06589818000793457\n",
      "[2021/03/30 05:01:19] root INFO: rec_res num  : 2, elapse : 0.014737606048583984\n",
      "['易用性', '布朗熊与可妮兔']\n",
      "[2021/03/30 05:01:20] root INFO: dt_boxes num : 5, elapse : 0.06754112243652344\n",
      "[2021/03/30 05:01:20] root INFO: rec_res num  : 5, elapse : 0.07237792015075684\n",
      "['易用性', '布朗熊与可妮兔', '米11在四个纬度的分数只高不低', 'Brown&Con']\n",
      "[2021/03/30 05:01:20] root INFO: dt_boxes num : 5, elapse : 0.06590557098388672\n",
      "[2021/03/30 05:01:20] root INFO: rec_res num  : 5, elapse : 0.08357715606689453\n",
      "['易用性', '布朗熊与可妮鱼', '￥11在四个纬度的分数只高不低', 'Brown&ConY']\n",
      "[2021/03/30 05:01:20] root INFO: dt_boxes num : 4, elapse : 0.06757831573486328\n",
      "[2021/03/30 05:01:20] root INFO: rec_res num  : 4, elapse : 0.026897192001342773\n",
      "['D', '易用性', 'Brown&Cony']\n",
      "[2021/03/30 05:01:20] root INFO: dt_boxes num : 6, elapse : 0.068145751953125\n",
      "[2021/03/30 05:01:20] root INFO: rec_res num  : 6, elapse : 0.08809947967529297\n",
      "['HDn', '易用性', '布朗熊与可妮兔', '11在四个纬度的分数只高不低', '茶', 'Brown&Cony']\n",
      "[2021/03/30 05:01:20] root INFO: dt_boxes num : 5, elapse : 0.06944656372070312\n",
      "[2021/03/30 05:01:20] root INFO: rec_res num  : 5, elapse : 0.02738165855407715\n",
      "['易用性', 'Brown&Cony', '茶']\n",
      "[2021/03/30 05:01:20] root INFO: dt_boxes num : 4, elapse : 0.06836795806884766\n",
      "[2021/03/30 05:01:21] root INFO: rec_res num  : 4, elapse : 0.02448129653930664\n",
      "['易用性', 'Brown&Cony']\n",
      "[2021/03/30 05:01:21] root INFO: dt_boxes num : 3, elapse : 0.06509160995483398\n",
      "[2021/03/30 05:01:21] root INFO: rec_res num  : 3, elapse : 0.0194094181060791\n",
      "['易用性', '茶', 'Brown&Cony']\n",
      "[2021/03/30 05:01:21] root INFO: dt_boxes num : 3, elapse : 0.06666183471679688\n",
      "[2021/03/30 05:01:21] root INFO: rec_res num  : 3, elapse : 0.017718076705932617\n",
      "['易用性', '茶', 'Brown&Cony']\n",
      "[2021/03/30 05:01:21] root INFO: dt_boxes num : 4, elapse : 0.06582808494567871\n",
      "[2021/03/30 05:01:21] root INFO: rec_res num  : 4, elapse : 0.025033950805664062\n",
      "['易用性', 'Brown&Cony']\n",
      "[2021/03/30 05:01:21] root INFO: dt_boxes num : 3, elapse : 0.0648648738861084\n",
      "[2021/03/30 05:01:21] root INFO: rec_res num  : 3, elapse : 0.02213597297668457\n",
      "['易用性', '茶', 'Brown&Cony']\n",
      "[2021/03/30 05:01:21] root INFO: dt_boxes num : 3, elapse : 0.06644940376281738\n",
      "[2021/03/30 05:01:21] root INFO: rec_res num  : 3, elapse : 0.019091129302978516\n",
      "['易用性', '茶', 'Brown&Cony']\n",
      "[2021/03/30 05:01:21] root INFO: dt_boxes num : 3, elapse : 0.06672954559326172\n",
      "[2021/03/30 05:01:21] root INFO: rec_res num  : 3, elapse : 0.02083420753479004\n",
      "['易用性', '茶', 'Brown&Cony']\n",
      "[2021/03/30 05:01:21] root INFO: dt_boxes num : 4, elapse : 0.06565666198730469\n",
      "[2021/03/30 05:01:21] root INFO: rec_res num  : 4, elapse : 0.02493119239807129\n",
      "['易用性', '茶', 'Brown&Cony']\n",
      "[2021/03/30 05:01:22] root INFO: dt_boxes num : 5, elapse : 0.06770944595336914\n",
      "[2021/03/30 05:01:22] root INFO: rec_res num  : 5, elapse : 0.028589487075805664\n",
      "['易用性', '茶', 'Brown&Cony']\n",
      "[2021/03/30 05:01:22] root INFO: dt_boxes num : 3, elapse : 0.06848573684692383\n",
      "[2021/03/30 05:01:22] root INFO: rec_res num  : 3, elapse : 0.021693706512451172\n",
      "['易用性', 'Brown&Cony']\n",
      "[2021/03/30 05:01:22] root INFO: dt_boxes num : 3, elapse : 0.06637048721313477\n",
      "[2021/03/30 05:01:22] root INFO: rec_res num  : 3, elapse : 0.022501468658447266\n",
      "['易用性', '漆', 'Brown&Cony']\n",
      "[2021/03/30 05:01:22] root INFO: dt_boxes num : 3, elapse : 0.06774711608886719\n",
      "[2021/03/30 05:01:22] root INFO: rec_res num  : 3, elapse : 0.021985292434692383\n",
      "['易用性', '茶', 'Brown&Cony']\n",
      "[2021/03/30 05:01:22] root INFO: dt_boxes num : 5, elapse : 0.06895327568054199\n",
      "[2021/03/30 05:01:22] root INFO: rec_res num  : 5, elapse : 0.03924155235290527\n",
      "['功能', '价IE', '易用性', '看来在观众眼中', '1']\n",
      "[2021/03/30 05:01:22] root INFO: dt_boxes num : 5, elapse : 0.06944680213928223\n",
      "[2021/03/30 05:01:22] root INFO: rec_res num  : 5, elapse : 0.03776049613952637\n",
      "['功能', '任价比', '易用性', '看来在观众眼中', 'PST']\n",
      "[2021/03/30 05:01:22] root INFO: dt_boxes num : 5, elapse : 0.06571078300476074\n",
      "[2021/03/30 05:01:23] root INFO: rec_res num  : 5, elapse : 0.04117131233215332\n",
      "['功能', '价比', '易用性', '看来在观众眼中', 'TEST']\n",
      "[2021/03/30 05:01:23] root INFO: dt_boxes num : 5, elapse : 0.06788992881774902\n",
      "[2021/03/30 05:01:23] root INFO: rec_res num  : 5, elapse : 0.0761101245880127\n",
      "['功能', '在价比', '易用性', '小米11还是十分值得购买的手机哟', 'TESTI']\n",
      "[2021/03/30 05:01:23] root INFO: dt_boxes num : 5, elapse : 0.06792283058166504\n",
      "[2021/03/30 05:01:23] root INFO: rec_res num  : 5, elapse : 0.07545995712280273\n",
      "['功能', '任价比', '易用性', '小米11还是十分值得购买的手机哟', 'TEST']\n",
      "[2021/03/30 05:01:23] root INFO: dt_boxes num : 6, elapse : 0.06739664077758789\n",
      "[2021/03/30 05:01:23] root INFO: rec_res num  : 6, elapse : 0.0957193374633789\n",
      "['功能', '价式', '易用性', '小米11还是十分值得购买的手机哟', 'T三STI']\n",
      "[2021/03/30 05:01:23] root INFO: dt_boxes num : 5, elapse : 0.0679783821105957\n",
      "[2021/03/30 05:01:23] root INFO: rec_res num  : 5, elapse : 0.07640886306762695\n",
      "['功能', '易用性', '小米11还是十分值得购买的手机哟', 'TEST']\n",
      "[2021/03/30 05:01:23] root INFO: dt_boxes num : 5, elapse : 0.06631970405578613\n",
      "[2021/03/30 05:01:23] root INFO: rec_res num  : 5, elapse : 0.07297635078430176\n",
      "['功能', '任价比', '易用性', '小米11还是十分值得购买的手机哟', 'TES']\n",
      "[2021/03/30 05:01:24] root INFO: dt_boxes num : 5, elapse : 0.06671547889709473\n",
      "[2021/03/30 05:01:24] root INFO: rec_res num  : 5, elapse : 0.07393217086791992\n",
      "['功能', '易用性', '小米11还是十分值得购买的手机哟', 'T']\n",
      "[2021/03/30 05:01:24] root INFO: dt_boxes num : 5, elapse : 0.06604695320129395\n",
      "[2021/03/30 05:01:24] root INFO: rec_res num  : 5, elapse : 0.07659339904785156\n",
      "['功能', 'DLL', '易用性', '小米11还是十分值得购买的手机哟', 'TPC']\n",
      "[2021/03/30 05:01:24] root INFO: dt_boxes num : 6, elapse : 0.06710600852966309\n",
      "[2021/03/30 05:01:24] root INFO: rec_res num  : 6, elapse : 0.09409260749816895\n",
      "['功能', '易用性', '小米11还是十分值得购买的手机哟', 'TS']\n",
      "[2021/03/30 05:01:24] root INFO: dt_boxes num : 5, elapse : 0.06793045997619629\n",
      "[2021/03/30 05:01:24] root INFO: rec_res num  : 5, elapse : 0.07574295997619629\n",
      "['功能', '易用性', '小米11还是十分值得购买的手机哟', 'T-C']\n",
      "[2021/03/30 05:01:24] root INFO: dt_boxes num : 5, elapse : 0.06672501564025879\n",
      "[2021/03/30 05:01:24] root INFO: rec_res num  : 5, elapse : 0.07797956466674805\n",
      "['功能', '易用性', '小米11还是十分值得购买的手机哟', 'I']\n",
      "[2021/03/30 05:01:25] root INFO: dt_boxes num : 5, elapse : 0.06730794906616211\n",
      "[2021/03/30 05:01:25] root INFO: rec_res num  : 5, elapse : 0.07574915885925293\n",
      "['功能', '王价L', '易用性', '小米11还是十分值得购买的手机哟', 'TEST']\n",
      "[2021/03/30 05:01:25] root INFO: dt_boxes num : 6, elapse : 0.06949663162231445\n",
      "[2021/03/30 05:01:25] root INFO: rec_res num  : 6, elapse : 0.08900570869445801\n",
      "['功能', '易用性', '小米11还是十分值得购买的手机哟']\n",
      "[2021/03/30 05:01:25] root INFO: dt_boxes num : 5, elapse : 0.06655359268188477\n",
      "[2021/03/30 05:01:25] root INFO: rec_res num  : 5, elapse : 0.07690143585205078\n",
      "['功能', '价L', '易用性', 'T', '小米11还是十分值得购买的手机哟']\n",
      "完成字幕提取，生成原始字幕文件...\n",
      "Step 3. 开始检测并过滤水印区域内容\n",
      "视频是否存在水印区域，存在的话输入y，不存在的话输入n: y\n",
      "请查看图片, 确定水印区域: /content/video-subtitle-extractor/output/watermark_area.jpg\n",
      "是否去除区域A((349, 432, 161, 181), 56)中的字幕?\n",
      "输入 \"y\" 或 \"回车\" 表示去除，输入\"n\"或其他表示不去除: y\n",
      "已经删除该区域字幕...\n",
      "是否去除区域B((1058, 1178, 262, 281), 32)中的字幕?\n",
      "输入 \"y\" 或 \"回车\" 表示去除，输入\"n\"或其他表示不去除: y\n",
      "已经删除该区域字幕...\n",
      "是否去除区域C((171, 224, 0, 12), 28)中的字幕?\n",
      "输入 \"y\" 或 \"回车\" 表示去除，输入\"n\"或其他表示不去除: y\n",
      "已经删除该区域字幕...\n",
      "是否去除区域D((353, 468, 327, 328), 27)中的字幕?\n",
      "输入 \"y\" 或 \"回车\" 表示去除，输入\"n\"或其他表示不去除: y\n",
      "已经删除该区域字幕...\n",
      "是否去除区域E((419, 870, 266, 291), 26)中的字幕?\n",
      "输入 \"y\" 或 \"回车\" 表示去除，输入\"n\"或其他表示不去除: n\n",
      "水印区域字幕过滤完毕...\n",
      "已经成功过滤水印区域内容\n",
      "Step 4. 开始检测非字幕区域，并将非字幕区域的内容删除\n",
      "请查看图片, 确定字幕区域是否正确: /content/video-subtitle-extractor/output/subtitle_area.jpg\n",
      "是否去除红色框区域外(216, 341)的字幕?\n",
      "输入 \"y\" 或 \"回车\" 表示去除，输入\"n\"或其他表示不去除: y\n",
      "去除完毕\n",
      "已将非字幕区域的内容删除\n",
      "Step 5. 开始生成字幕文件\n",
      "/content/testvd\n",
      "字幕文件生成位置：/content/testvd.srt\n",
      "字幕文件生成成功\n"
     ]
    }
   ],
   "source": [
    "!python main.py"
   ]
  },
  {
   "cell_type": "markdown",
   "metadata": {
    "id": "EGsjK3RRgIlD"
   },
   "source": [
    "<img src=\"\">"
   ]
  }
 ],
 "metadata": {
  "accelerator": "GPU",
  "colab": {
   "collapsed_sections": [],
   "name": "video-subtitle-extractor.ipynb",
   "provenance": []
  },
  "kernelspec": {
   "display_name": "Python 3",
   "language": "python",
   "name": "python3"
  },
  "language_info": {
   "codemirror_mode": {
    "name": "ipython",
    "version": 3
   },
   "file_extension": ".py",
   "mimetype": "text/x-python",
   "name": "python",
   "nbconvert_exporter": "python",
   "pygments_lexer": "ipython3",
   "version": "3.8.5"
  }
 },
 "nbformat": 4,
 "nbformat_minor": 1
}
