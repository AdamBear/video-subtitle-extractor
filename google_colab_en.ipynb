{
 "nbformat": 4,
 "nbformat_minor": 0,
 "metadata": {
  "accelerator": "GPU",
  "colab": {
   "name": "video-subtitle-extractor.ipynb",
   "provenance": [],
   "collapsed_sections": []
  },
  "kernelspec": {
   "display_name": "Python 3",
   "language": "python",
   "name": "python3"
  },
  "language_info": {
   "codemirror_mode": {
    "name": "ipython",
    "version": 3
   },
   "file_extension": ".py",
   "mimetype": "text/x-python",
   "name": "python",
   "nbconvert_exporter": "python",
   "pygments_lexer": "ipython3",
   "version": "3.8.5"
  }
 },
 "cells": [
  {
   "cell_type": "markdown",
   "metadata": {
    "id": "WAJ7lA2wuvR8"
   },
   "source": [
    "# Set Up\n",
    "\n",
    "1. click “Edit” -> \"Notebook Settings\" -> \"Hardware accelerator, GPU\" -> Save\n",
    "<img src=\"https://z3.ax1x.com/2021/03/30/ciQWWV.png\">\n",
    "\n",
    "2. Click the folder icon on the left, upload your video file, and copy the uploaded video path\n",
    "\n",
    "<img src=\"https://z3.ax1x.com/2021/03/30/cilvhq.png\">\n",
    "\n",
    "3. Run the code, enter the pasted video path\n",
    "\n",
    "\n"
   ]
  },
  {
   "cell_type": "markdown",
   "metadata": {
    "id": "_jPi_FBwyZyr"
   },
   "source": [
    "check whether GPU works"
   ]
  },
  {
   "cell_type": "code",
   "metadata": {
    "id": "eHPHc_Bheo-j"
   },
   "source": [
    "!nvidia-smi"
   ],
   "execution_count": null,
   "outputs": []
  },
  {
   "cell_type": "code",
   "metadata": {
    "id": "TkQKKGKZkkT2"
   },
   "source": [
    "!nvcc -V"
   ],
   "execution_count": null,
   "outputs": []
  },
  {
   "cell_type": "markdown",
   "metadata": {
    "id": "_85O6zgPyhto"
   },
   "source": [
    "# Install Dependencies"
   ]
  },
  {
   "cell_type": "code",
   "metadata": {
    "id": "ICeq0T1FeqjT"
   },
   "source": [
    "!git clone https://github.com/YaoFANGUK/video-subtitle-extractor.git"
   ],
   "execution_count": null,
   "outputs": []
  },
  {
   "cell_type": "code",
   "metadata": {
    "id": "GHutEWynkMKR"
   },
   "source": [
    "cd video-subtitle-extractor"
   ],
   "execution_count": null,
   "outputs": []
  },
  {
   "cell_type": "code",
   "metadata": {
    "id": "ynJydzo1kMKR"
   },
   "source": [
    "!pip install -r requirements_gpu.txt"
   ],
   "execution_count": null,
   "outputs": []
  },
  {
   "cell_type": "code",
   "metadata": {
    "id": "3-GdvmaGl-aF"
   },
   "source": [
    "!pip install paddlepaddle-gpu==2.1.0"
   ],
   "execution_count": null,
   "outputs": []
  },
  {
   "cell_type": "markdown",
   "metadata": {
    "id": "SGb0i3tPyw9Q"
   },
   "source": [
    "# Run"
   ]
  },
  {
   "cell_type": "code",
   "metadata": {
    "id": "B2MPjMOOgGbD"
   },
   "source": [
    "!python main.py"
   ],
   "execution_count": null,
   "outputs": []
  },
  {
   "cell_type": "markdown",
   "metadata": {
    "id": "EGsjK3RRgIlD"
   },
   "source": [
    "<img src=\"\">"
   ]
  }
 ]
}